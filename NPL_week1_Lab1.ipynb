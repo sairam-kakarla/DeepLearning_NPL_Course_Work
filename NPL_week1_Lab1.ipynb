{
  "nbformat": 4,
  "nbformat_minor": 0,
  "metadata": {
    "colab": {
      "name": "NPL week1 Lab1",
      "provenance": [],
      "authorship_tag": "ABX9TyPpBxuMUTYsa91TvrrmLRSG",
      "include_colab_link": true
    },
    "kernelspec": {
      "name": "python3",
      "display_name": "Python 3"
    },
    "language_info": {
      "name": "python"
    }
  },
  "cells": [
    {
      "cell_type": "markdown",
      "metadata": {
        "id": "view-in-github",
        "colab_type": "text"
      },
      "source": [
        "<a href=\"https://colab.research.google.com/github/sairam-kakarla/DeepLearning_NPL_Course_Work/blob/main/NPL_week1_Lab1.ipynb\" target=\"_parent\"><img src=\"https://colab.research.google.com/assets/colab-badge.svg\" alt=\"Open In Colab\"/></a>"
      ]
    },
    {
      "cell_type": "code",
      "metadata": {
        "id": "56p28yYgqhGr"
      },
      "source": [
        "import tensorflow as tf\n",
        "from tensorflow import keras\n",
        "from tensorflow.keras.preprocessing.text import Tokenizer\n",
        "from tensorflow.keras.preprocessing.sequence import pad_sequences"
      ],
      "execution_count": 14,
      "outputs": []
    },
    {
      "cell_type": "code",
      "metadata": {
        "colab": {
          "base_uri": "https://localhost:8080/"
        },
        "id": "9RnmJRbqrLvc",
        "outputId": "04ce1e95-3a5b-4642-c7cb-e35465d7fc2d"
      },
      "source": [
        "sentences=[\"I love my dog\",\"I love my cat\",\"We Love YoUR DOG\",\"Do you think my dog is amazing!\"]\n",
        "tokenizer=Tokenizer(num_words=100 ,oov_token=\"<OOV>\")\n",
        "tokenizer.fit_on_texts(sentences)\n",
        "word_index=tokenizer.word_index\n",
        "print(word_index)\n",
        "print(tokenizer.texts_to_sequences(sentences))"
      ],
      "execution_count": 12,
      "outputs": [
        {
          "output_type": "stream",
          "name": "stdout",
          "text": [
            "{'<OOV>': 1, 'love': 2, 'my': 3, 'dog': 4, 'i': 5, 'cat': 6, 'we': 7, 'your': 8, 'do': 9, 'you': 10, 'think': 11, 'is': 12, 'amazing': 13}\n",
            "[[5, 2, 3, 4], [5, 2, 3, 6], [7, 2, 8, 4], [9, 10, 11, 3, 4, 12, 13]]\n"
          ]
        }
      ]
    },
    {
      "cell_type": "code",
      "metadata": {
        "colab": {
          "base_uri": "https://localhost:8080/"
        },
        "id": "-XM1bXDj8_DC",
        "outputId": "b8e41df6-0369-4067-db46-815e18bfd8aa"
      },
      "source": [
        "print(pad_sequences(tokenizer.texts_to_sequences(sentences),padding=\"post\"))"
      ],
      "execution_count": 16,
      "outputs": [
        {
          "output_type": "stream",
          "name": "stdout",
          "text": [
            "[[ 5  2  3  4  0  0  0]\n",
            " [ 5  2  3  6  0  0  0]\n",
            " [ 7  2  8  4  0  0  0]\n",
            " [ 9 10 11  3  4 12 13]]\n"
          ]
        }
      ]
    },
    {
      "cell_type": "code",
      "metadata": {
        "id": "wMhGmZHB_Xg5"
      },
      "source": [
        ""
      ],
      "execution_count": null,
      "outputs": []
    }
  ]
}